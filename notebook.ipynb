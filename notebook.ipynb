{
 "cells": [
  {
   "cell_type": "code",
   "execution_count": 112,
   "metadata": {},
   "outputs": [],
   "source": [
    "#!python -m pip install torch torchvision torchaudio\n",
    "#!python -m pip install tensorboard"
   ]
  },
  {
   "cell_type": "code",
   "execution_count": 113,
   "metadata": {},
   "outputs": [],
   "source": [
    "import torch\n",
    "from torchvision import datasets\n",
    "import torchvision.transforms as T\n",
    "import matplotlib.pyplot as plt"
   ]
  },
  {
   "cell_type": "code",
   "execution_count": 114,
   "metadata": {},
   "outputs": [],
   "source": [
    "#importer un datasets prefait (MNIST)\n",
    "\n",
    "traning_dataset = datasets.MNIST(\n",
    "    root=\"data\",\n",
    "    train=False,\n",
    "    download=True,\n",
    "    transform=T.ToTensor()\n",
    ")\n",
    "\n",
    "test_dataset = datasets.MNIST(\n",
    "    root=\"data\",\n",
    "    train=False,\n",
    "    download=True,\n",
    "    transform=T.ToTensor()\n",
    ")"
   ]
  },
  {
   "cell_type": "code",
   "execution_count": 115,
   "metadata": {},
   "outputs": [
    {
     "data": {
      "image/png": "[encoded data removed]",
      "text/plain": [
       "<Figure size 800x800 with 9 Axes>"
      ]
     },
     "metadata": {},
     "output_type": "display_data"
    }
   ],
   "source": [
    "figure = plt.figure(figsize=(8, 8))\n",
    "cols, rows = 3, 3\n",
    "for i in range(1, cols * rows + 1):\n",
    "    sample_idx = torch.randint(len(traning_dataset), size=(1,)).item()\n",
    "    img, label = traning_dataset[sample_idx]\n",
    "    figure.add_subplot(rows, cols, i)\n",
    "    plt.title(label)\n",
    "    plt.axis(\"off\")\n",
    "    plt.imshow(img.squeeze(), cmap=\"gray\")\n",
    "plt.show()"
   ]
  },
  {
   "cell_type": "code",
   "execution_count": 116,
   "metadata": {},
   "outputs": [
    {
     "name": "stdout",
     "output_type": "stream",
     "text": [
      "Shape of X  torch.Size([64, 1, 28, 28])\n",
      "Shape of y:  torch.Size([64])\n"
     ]
    }
   ],
   "source": [
    "from torch.utils.data import DataLoader\n",
    "batch_size = 64\n",
    "\n",
    "train_dataloader = DataLoader(traning_dataset, batch_size=batch_size, shuffle=True)\n",
    "test_dataloader = DataLoader(test_dataset, batch_size=batch_size)\n",
    "\n",
    "for X, y in test_dataloader:\n",
    "    print(\"Shape of X \", X.shape)\n",
    "    print(\"Shape of y: \", y.shape)\n",
    "    break"
   ]
  },
  {
   "cell_type": "code",
   "execution_count": 117,
   "metadata": {},
   "outputs": [
    {
     "data": {
      "text/plain": [
       "torch.Size([64, 1, 28, 28])"
      ]
     },
     "execution_count": 117,
     "metadata": {},
     "output_type": "execute_result"
    }
   ],
   "source": [
    "train_features, train_labels = next(iter(train_dataloader))\n",
    "train_features.shape"
   ]
  },
  {
   "cell_type": "code",
   "execution_count": 118,
   "metadata": {},
   "outputs": [],
   "source": [
    "import torch.nn as nn\n",
    "\n",
    "class MLP(nn.Module):\n",
    "    def __init__(self, dims):\n",
    "        super(MLP, self).__init__()\n",
    "        self.fcs = nn.ModuleList(\n",
    "            [nn.Linear(dims[i], dims[i+1]) for i in range(len(dims)-1)]\n",
    "        )\n",
    "        self.act = nn.ReLU()\n",
    "        self.flatten = nn.Flatten()\n",
    "\n",
    "    def forward(self, x):\n",
    "        x = self.flatten(x)\n",
    "        for layer in self.fcs:\n",
    "            x =layer(x)\n",
    "            x = self.act(x)\n",
    "        return x"
   ]
  },
  {
   "cell_type": "code",
   "execution_count": 119,
   "metadata": {},
   "outputs": [],
   "source": [
    "input_dim = 28*28\n",
    "output_dim = 10\n",
    "model = MLP([input_dim, 128, 128, output_dim])"
   ]
  },
  {
   "cell_type": "code",
   "execution_count": 120,
   "metadata": {},
   "outputs": [
    {
     "data": {
      "text/plain": [
       "MLP(\n",
       "  (fcs): ModuleList(\n",
       "    (0): Linear(in_features=784, out_features=128, bias=True)\n",
       "    (1): Linear(in_features=128, out_features=128, bias=True)\n",
       "    (2): Linear(in_features=128, out_features=10, bias=True)\n",
       "  )\n",
       "  (act): ReLU()\n",
       "  (flatten): Flatten(start_dim=1, end_dim=-1)\n",
       ")"
      ]
     },
     "execution_count": 120,
     "metadata": {},
     "output_type": "execute_result"
    }
   ],
   "source": [
    "model"
   ]
  },
  {
   "cell_type": "code",
   "execution_count": 121,
   "metadata": {},
   "outputs": [],
   "source": [
    "loss_fn = nn.CrossEntropyLoss()\n",
    "optimizer = torch.optim.Adam(model.parameters(), lr=1e-3)"
   ]
  },
  {
   "cell_type": "code",
   "execution_count": 122,
   "metadata": {},
   "outputs": [],
   "source": [
    "def train_loop(dataloader, model, loss_fn, optimizer):\n",
    "    model.train()\n",
    "\n",
    "    for batch, (X, y) in enumerate(dataloader):\n",
    "        ypred = model(X)\n",
    "        loss = loss_fn(ypred, y)\n",
    "\n",
    "\n",
    "        loss.backward()\n",
    "        optimizer.step()\n",
    "        optimizer.zero_grad()\n",
    "\n",
    "        if batch % 100 == 0:\n",
    "            loss, current = loss.item(), batch * batch_size * len(X)\n",
    "            print(f\"loss: {loss:>7f}  [{current:>5d}/{len(dataloader.dataset)}]\")\n",
    "    \n",
    "def test_loop(dataloader, model, loss_fn):\n",
    "    model.eval()\n",
    "    test_loss, correct = 0, 0\n",
    "\n",
    "    with torch.no_grad():\n",
    "        for X, y in dataloader:\n",
    "            ypred = model(X)\n",
    "            test_loss += loss_fn(ypred, y).item()\n",
    "            correct += (ypred.argmax(1) == y).type(torch.float).sum().item()\n",
    "    test_loss /= len(dataloader.dataset)\n",
    "    correct /= len(dataloader.dataset)\n",
    "    print(f\"Test loss: {test_loss:>8f} | test accuracy: {correct * 100:>7f}\")"
   ]
  },
  {
   "cell_type": "code",
   "execution_count": 123,
   "metadata": {},
   "outputs": [],
   "source": [
    "# epochs = 10\n",
    "# for t in range(epochs):\n",
    "#     print(f\"Epoch {t+1}\\n-------------------------------\")\n",
    "#     train_loop(train_dataloader, model, loss_fn, optimizer)\n",
    "#     test_loop(test_dataloader, model, loss_fn)\n",
    "# print(\"Done!\")"
   ]
  },
  {
   "cell_type": "code",
   "execution_count": 124,
   "metadata": {},
   "outputs": [],
   "source": [
    "#importer un datasets prefait (MNIST)\n",
    "\n",
    "traning_dataset = datasets.MNIST(\n",
    "    root=\"data\",\n",
    "    train=False,\n",
    "    download=True,\n",
    "    transform=T.ToTensor()\n",
    ")\n",
    "\n",
    "test_dataset = datasets.MNIST(\n",
    "    root=\"data\",\n",
    "    train=False,\n",
    "    download=True,\n",
    "    transform=T.ToTensor()\n",
    ")"
   ]
  },
  {
   "cell_type": "code",
   "execution_count": 125,
   "metadata": {},
   "outputs": [
    {
     "name": "stdout",
     "output_type": "stream",
     "text": [
      "tensor(0.1325) tensor(0.3039)\n"
     ]
    }
   ],
   "source": [
    "from torch.utils.data import ConcatDataset\n",
    "\n",
    "mean, std = 0,0\n",
    "\n",
    "combined_data = ConcatDataset([traning_dataset, test_dataset])\n",
    "\n",
    "for image, label in combined_data:\n",
    "    image = image.view(28*28)\n",
    "    mean += image.mean()\n",
    "    std += image.std().sum()\n",
    "\n",
    "mean/= len(combined_data)\n",
    "std /= len(combined_data)\n",
    "\n",
    "print(mean, std)"
   ]
  },
  {
   "cell_type": "code",
   "execution_count": 126,
   "metadata": {},
   "outputs": [],
   "source": [
    "#importer un datasets prefait (MNIST)\n",
    "\n",
    "traning_dataset_v2 = datasets.MNIST(\n",
    "    root=\"data\",\n",
    "    train=False,\n",
    "    download=True,\n",
    "    transform=T.Compose([T.ToTensor(), T.Normalize((mean), (std))])\n",
    ")\n",
    "\n",
    "test_dataset_v2 = datasets.MNIST(\n",
    "    root=\"data\",\n",
    "    train=False,\n",
    "    download=True,\n",
    "    transform=T.Compose([T.ToTensor(), T.Normalize((mean), (std))])\n",
    ")"
   ]
  },
  {
   "cell_type": "code",
   "execution_count": 127,
   "metadata": {},
   "outputs": [
    {
     "name": "stdout",
     "output_type": "stream",
     "text": [
      "tensor(1.6252e-06) tensor(1.0000)\n"
     ]
    }
   ],
   "source": [
    "from torch.utils.data import ConcatDataset\n",
    "\n",
    "mean, std = 0,0\n",
    "\n",
    "combined_data = ConcatDataset([traning_dataset_v2, test_dataset_v2])\n",
    "\n",
    "for image, label in combined_data:\n",
    "    image = image.view(28*28)\n",
    "    mean += image.mean()\n",
    "    std += image.std().sum()\n",
    "\n",
    "mean/= len(combined_data)\n",
    "std /= len(combined_data)\n",
    "\n",
    "print(mean, std)"
   ]
  },
  {
   "cell_type": "code",
   "execution_count": 128,
   "metadata": {},
   "outputs": [],
   "source": [
    "# epochs = 10\n",
    "# for t in range(epochs):\n",
    "#     print(f\"Epoch {t+1}\\n-------------------------------\")\n",
    "#     train_loop(train_dataloader, model, loss_fn, optimizer)\n",
    "#     test_loop(test_dataloader, model, loss_fn)\n",
    "# print(\"Done!\")"
   ]
  },
  {
   "cell_type": "code",
   "execution_count": 129,
   "metadata": {},
   "outputs": [
    {
     "name": "stdout",
     "output_type": "stream",
     "text": [
      "Accélérateur: cpu\n"
     ]
    }
   ],
   "source": [
    "device = \"cuda\" if torch.cuda.is_available() else \"cpu\"\n",
    "print(f\"Accélérateur: {device}\")\n",
    "\n",
    "input_dim = 28*28\n",
    "output_dim = 10 #Nombre de classe\n",
    "model = MLP([input_dim, 128, 128, output_dim]).to(device)\n",
    "loss_fn = nn.CrossEntropyLoss().to(device)\n",
    "optimizer = torch.optim.AdamW(model.parameters(), lr=1e-3) "
   ]
  },
  {
   "cell_type": "code",
   "execution_count": 130,
   "metadata": {},
   "outputs": [
    {
     "name": "stdout",
     "output_type": "stream",
     "text": [
      "Epoch 1/10\n",
      "Epoch 1/10 complete\n",
      "\n",
      "Epoch 2/10\n",
      "Epoch 2/10 complete\n",
      "\n",
      "Epoch 3/10\n",
      "Epoch 3/10 complete\n",
      "\n",
      "Epoch 4/10\n",
      "Epoch 4/10 complete\n",
      "\n",
      "Epoch 5/10\n",
      "Epoch 5/10 complete\n",
      "\n",
      "Epoch 6/10\n",
      "Epoch 6/10 complete\n",
      "\n",
      "Epoch 7/10\n",
      "Epoch 7/10 complete\n",
      "\n",
      "Epoch 8/10\n",
      "Epoch 8/10 complete\n",
      "\n",
      "Epoch 9/10\n",
      "Epoch 9/10 complete\n",
      "\n",
      "Epoch 10/10\n",
      "Epoch 10/10 complete\n",
      "\n"
     ]
    }
   ],
   "source": [
    "\n",
    "from torch.utils.tensorboard import SummaryWriter\n",
    "writer = SummaryWriter('runs/mnist_experiment_1')\n",
    "def train_loop(dataloader, model, loss_fn, optimizer, batch_size):\n",
    "    model.train()\n",
    "    epoch_loss = 0\n",
    "    correct = 0\n",
    "    for X, y in dataloader:\n",
    "        X, y = X.to(device), y.to(device)\n",
    "        # Compute prediction and loss\n",
    "        pred = model(X)\n",
    "        loss = loss_fn(pred, y)\n",
    "\n",
    "        # Backpropagation\n",
    "        loss.backward()\n",
    "        optimizer.step()\n",
    "        optimizer.zero_grad()\n",
    "\n",
    "        epoch_loss += loss.item()\n",
    "        correct += (pred.argmax(1) == y).type(torch.float).sum().item()\n",
    "    return epoch_loss / len(dataloader), correct / len(dataloader.dataset) * 100\n",
    "\n",
    "def test_loop(dataloader, model, loss_fn):\n",
    "    model.eval()\n",
    "    test_loss, correct = 0, 0\n",
    "\n",
    "    with torch.no_grad():\n",
    "        for X, y in dataloader:\n",
    "            X, y = X.to(device), y.to(device)\n",
    "            pred = model(X)\n",
    "            test_loss += loss_fn(pred, y).item()\n",
    "            correct += (pred.argmax(1) == y).type(torch.float).sum().item()\n",
    "    return test_loss / len(dataloader), correct / len(dataloader.dataset) * 100\n",
    "\n",
    "# Training loop with added graphing\n",
    "def train_and_test(dataloader_train, dataloader_test, model, loss_fn, optimizer, epochs, batch_size):\n",
    "    for epoch in range(epochs):\n",
    "        print(f\"Epoch {epoch+1}/{epochs}\")\n",
    "\n",
    "        # Train the model\n",
    "        train_loss, accuracy = train_loop(dataloader_train, model, loss_fn, optimizer, batch_size)\n",
    "        writer.add_scalars('Loss', {'train': train_loss}, epoch)\n",
    "        writer.add_scalars('Accuracy', {'train': accuracy}, epoch)\n",
    "\n",
    "        # Test the model\n",
    "        test_loss, accuracy = test_loop(dataloader_test, model, loss_fn)\n",
    "        writer.add_scalars('Loss', {'test': test_loss}, epoch)\n",
    "        writer.add_scalars('Accuracy', {'test': accuracy}, epoch)\n",
    "\n",
    "        print(f\"Epoch {epoch+1}/{epochs} complete\\n\")\n",
    "\n",
    "train_and_test(train_dataloader, test_dataloader, model, loss_fn, optimizer, epochs, batch_size)"
   ]
  },
  {
   "cell_type": "code",
   "execution_count": 131,
   "metadata": {},
   "outputs": [],
   "source": [
    "class CNN(nn.Module):\n",
    "    def __init__(self):\n",
    "        super(CNN, self).__init__()\n",
    "        self.conv_stack = nn.Sequential(\n",
    "            nn.Conv2d(in_channels=1, out_channels=32, kernel_size=3, padding=1),\n",
    "            nn.ReLU(),\n",
    "            nn.Conv2d(in_channels=32, out_channels=64, kernel_size=3, padding=1),\n",
    "            nn.ReLU(),\n",
    "            nn.MaxPool2d(kernel_size=2, stride=2)\n",
    "        )\n",
    "        self.mlp = nn.Sequential(\n",
    "            nn.Flatten(),\n",
    "            nn.Linear(64*14*14, 128),\n",
    "            nn.ReLU(),\n",
    "            nn.Linear(128, 128),\n",
    "            nn.ReLU(),\n",
    "            nn.Linear(128, 10),\n",
    "        )\n",
    "    \n",
    "    def forward(self, x):\n",
    "        x = self.conv_stack(x)\n",
    "        x = self.mlp(x)\n",
    "        return x"
   ]
  },
  {
   "cell_type": "code",
   "execution_count": 132,
   "metadata": {},
   "outputs": [],
   "source": [
    "cnn = CNN().to(device)\n",
    "loss_fn = nn.CrossEntropyLoss().to(device)\n",
    "optimizer = torch.optim.AdamW(cnn.parameters(), lr=1e-3)"
   ]
  },
  {
   "cell_type": "code",
   "execution_count": 133,
   "metadata": {},
   "outputs": [
    {
     "name": "stdout",
     "output_type": "stream",
     "text": [
      "Epoch 1/10\n",
      "Epoch 1/10 complete\n",
      "\n",
      "Epoch 2/10\n",
      "Epoch 2/10 complete\n",
      "\n",
      "Epoch 3/10\n",
      "Epoch 3/10 complete\n",
      "\n",
      "Epoch 4/10\n",
      "Epoch 4/10 complete\n",
      "\n",
      "Epoch 5/10\n",
      "Epoch 5/10 complete\n",
      "\n",
      "Epoch 6/10\n",
      "Epoch 6/10 complete\n",
      "\n",
      "Epoch 7/10\n",
      "Epoch 7/10 complete\n",
      "\n",
      "Epoch 8/10\n",
      "Epoch 8/10 complete\n",
      "\n",
      "Epoch 9/10\n",
      "Epoch 9/10 complete\n",
      "\n",
      "Epoch 10/10\n",
      "Epoch 10/10 complete\n",
      "\n"
     ]
    }
   ],
   "source": [
    "writer = SummaryWriter('runs/mnist_experiment_2')\n",
    "train_and_test(train_dataloader, test_dataloader, cnn, loss_fn, optimizer, epochs, batch_size)"
   ]
  },
  {
   "cell_type": "code",
   "execution_count": 134,
   "metadata": {},
   "outputs": [],
   "source": [
    "#!python -m pip install onnx\n",
    "#!python -m pip install onnxscript\n",
    "#!python -m pip install onnxruntime\n"
   ]
  },
  {
   "cell_type": "code",
   "execution_count": 135,
   "metadata": {},
   "outputs": [],
   "source": [
    "cnn.to(\"cpu\")\n",
    "torch_input = torch.randn(1, 1, 28, 28)\n",
    "onnx_program = torch.onnx.export(\n",
    "    cnn,\n",
    "    torch_input,\n",
    "    \"model.onnx\",\n",
    "    verbose=True,\n",
    "    input_names=[\"input\"],\n",
    "    output_names=[\"output\"],\n",
    "    opset_version=11,\n",
    "    export_params=True,\n",
    "    do_constant_folding=True,\n",
    "    dynamic_axes={\n",
    "        \"input\": {0: \"batch_size\"},\n",
    "        \"output\": {0: \"batch_size\"}\n",
    "    },\n",
    ")"
   ]
  },
  {
   "cell_type": "code",
   "execution_count": 136,
   "metadata": {},
   "outputs": [
    {
     "name": "stdout",
     "output_type": "stream",
     "text": [
      "Input length: 1\n",
      "Sample input: [tensor([[[[-1.3741e+00,  3.9748e-01,  5.7270e-01,  1.1509e-01, -1.4141e-01,\n",
      "            6.4125e-02,  1.1042e+00,  3.7835e-01, -1.1949e+00, -6.0085e-01,\n",
      "            5.5973e-01, -1.0878e+00, -3.3833e-01, -7.4809e-01,  1.9670e+00,\n",
      "            4.2096e-01,  5.1701e-01, -4.5877e-02, -3.6588e-01, -1.8129e-01,\n",
      "           -1.0295e-01,  1.8235e-01, -1.1372e+00,  8.0638e-01, -1.2078e+00,\n",
      "           -1.3751e+00,  1.4226e+00,  5.1749e-01],\n",
      "          [-1.8715e+00, -1.3260e+00,  7.2624e-02, -8.4867e-01, -1.2534e+00,\n",
      "            6.9968e-01, -4.5868e-01,  1.0252e+00, -5.1438e-01,  6.1551e-01,\n",
      "            4.1050e-01, -1.6398e+00,  1.0655e+00, -5.5289e-01, -5.2404e-01,\n",
      "            1.7268e-01, -9.8505e-01,  2.1879e+00, -2.9261e+00, -8.3165e-01,\n",
      "            5.9078e-01, -2.5902e-01, -8.7719e-01, -3.7393e-02,  5.3406e-01,\n",
      "           -2.4005e+00,  3.4399e-01,  7.4295e-01],\n",
      "          [-2.6156e-01, -5.1278e-01,  9.2012e-02, -1.0566e+00,  8.6395e-01,\n",
      "           -7.6069e-01, -3.0496e-01,  1.4875e+00,  4.5721e-01, -1.2253e+00,\n",
      "            1.1301e+00, -4.4351e-01, -9.6569e-01, -2.9058e-01,  1.6531e+00,\n",
      "           -5.3513e-01, -1.8172e-02, -3.9739e-01,  1.0983e+00, -6.4192e-01,\n",
      "            8.7889e-01, -5.5510e-02, -5.2999e-01,  6.2089e-01, -2.2153e+00,\n",
      "           -1.9484e+00, -3.5699e-01, -2.3397e-01],\n",
      "          [ 7.7893e-01, -1.3130e+00, -1.3051e+00, -9.0673e-01, -3.3907e-01,\n",
      "           -6.4788e-01, -9.5117e-01,  1.2607e+00, -7.2179e-01,  4.6816e-01,\n",
      "           -1.7693e+00, -5.1334e-01,  2.0340e-01, -4.7669e-01, -3.0627e-01,\n",
      "            7.4046e-02,  8.6368e-01,  1.2131e+00,  6.0834e-01, -5.0255e-01,\n",
      "           -2.6235e-01, -6.3126e-01,  1.1676e+00,  2.2671e-01, -1.9416e+00,\n",
      "            6.1718e-02, -6.4586e-01, -5.2972e-01],\n",
      "          [ 1.2428e-01, -1.5839e+00, -6.8716e-01, -4.8240e-01, -1.4724e-01,\n",
      "            3.3201e-01, -8.6308e-01, -3.7356e-01,  6.5852e-01,  3.9384e-01,\n",
      "            5.1811e-01, -8.2989e-01,  1.1737e-01, -1.2818e+00, -3.8008e-02,\n",
      "            2.7964e-01,  1.1417e+00,  2.3307e-01, -1.7258e+00, -1.1552e+00,\n",
      "           -1.6412e+00,  2.8097e-01,  1.7801e-01, -1.1696e+00, -5.2486e-01,\n",
      "            4.5993e-01, -1.8244e-01,  1.8944e+00],\n",
      "          [-8.5128e-01, -1.7349e-01,  4.1856e-01, -2.8083e-01, -1.4727e+00,\n",
      "            2.1824e+00,  2.9069e+00, -1.4086e-01, -1.1303e-01,  2.0813e-01,\n",
      "            8.3791e-01, -1.1021e+00, -2.6548e-01,  1.0322e+00,  5.0956e-01,\n",
      "            8.0729e-01, -4.5368e-01, -1.5306e-01,  6.7323e-01, -4.3773e-01,\n",
      "            1.9036e+00,  6.5300e-01,  2.7755e-01,  2.6891e-01,  2.8341e+00,\n",
      "            1.2941e+00,  2.7110e-01,  2.4573e-02],\n",
      "          [-4.5584e-01,  7.2423e-01, -3.8320e-01,  4.2047e-01,  5.9734e-01,\n",
      "           -9.1256e-01, -1.7692e-01,  1.8434e+00,  6.2259e-01, -1.8844e+00,\n",
      "            7.2690e-01, -1.7460e-01, -1.3806e-01, -2.0701e+00, -3.9487e-01,\n",
      "           -1.9132e+00, -8.9701e-01, -9.5867e-02,  1.1059e+00,  2.7482e-01,\n",
      "           -1.1215e+00, -1.9764e-01,  4.2395e-01, -4.3052e-01, -1.5927e+00,\n",
      "            6.3509e-02,  2.2212e-01,  9.0439e-01],\n",
      "          [ 8.2586e-01, -4.8047e-01, -7.2958e-01, -2.8420e-01,  4.5994e-01,\n",
      "            6.5463e-01, -5.5100e-01, -7.2153e-01,  4.6738e-01,  9.1661e-01,\n",
      "            3.2486e-01, -2.4620e-03,  9.1281e-01,  1.0370e+00,  7.3593e-01,\n",
      "            2.1126e-01, -1.3761e+00, -1.5606e+00, -7.9051e-01,  1.0717e+00,\n",
      "            7.2005e-01,  2.8426e-01, -3.5543e-01, -6.3034e-01,  7.3703e-01,\n",
      "            2.6262e-01,  1.8975e+00, -1.6921e+00],\n",
      "          [-5.9543e-01,  1.5503e-01,  3.2949e-01,  5.7805e-01, -1.7517e+00,\n",
      "           -2.5569e-01,  7.0796e-01, -2.3649e+00, -3.4462e-01,  2.4632e-01,\n",
      "            7.8503e-01,  8.7780e-01,  1.6027e+00, -1.8803e-01, -1.2596e+00,\n",
      "           -1.0114e+00, -1.3418e+00,  1.2595e+00, -3.8555e-01,  1.0890e+00,\n",
      "            6.9207e-01,  1.1356e+00, -8.4574e-01,  7.2651e-01,  1.2001e+00,\n",
      "           -7.8210e-01, -8.2751e-01, -7.2027e-01],\n",
      "          [ 6.8671e-01, -1.1793e+00, -2.7482e+00,  2.4623e-01,  6.9458e-01,\n",
      "           -8.2024e-01, -6.1620e-01, -1.0715e+00,  4.2892e-01,  3.4101e-01,\n",
      "           -8.8985e-01, -2.6718e-01, -5.5666e-01,  1.6411e+00, -2.4979e-01,\n",
      "           -1.9950e+00, -1.3906e+00,  1.0260e+00,  9.7889e-02, -1.5337e-01,\n",
      "            2.9474e-01,  6.0789e-01, -3.9125e-01,  4.9238e-01, -5.5740e-01,\n",
      "            8.2294e-01, -1.0343e+00, -6.2315e-01],\n",
      "          [ 1.3191e+00,  8.5325e-01, -5.0569e-01, -1.9684e+00,  6.4624e-01,\n",
      "            7.9208e-02, -1.4360e+00,  7.1873e-01, -5.4791e-01,  2.1647e+00,\n",
      "            3.0890e-01,  4.4892e-01,  1.5412e+00,  6.3759e-01, -5.7326e-01,\n",
      "            2.7817e-01,  1.2295e+00, -1.9631e-01,  5.2260e-01, -1.1697e-01,\n",
      "            5.2176e-01, -8.9379e-01,  1.3824e+00,  4.2691e-01,  2.6088e-01,\n",
      "            5.1211e-01, -6.8835e-01,  2.6312e-01],\n",
      "          [-6.9785e-02, -2.0205e-01,  8.9861e-02,  4.0812e-02, -1.1446e+00,\n",
      "           -1.2596e+00, -1.2530e-01, -1.7100e+00, -5.5032e-01, -1.3859e+00,\n",
      "            2.2592e-01, -1.5641e+00, -1.3568e+00, -1.4820e+00,  2.2853e-01,\n",
      "            8.3630e-01,  2.8043e-01,  5.4629e-01, -1.3436e-01, -1.2736e+00,\n",
      "           -2.8857e-01,  1.0533e+00,  8.7402e-01,  5.1738e-02,  2.3393e-01,\n",
      "           -8.5402e-01, -9.0903e-01, -7.0801e-01],\n",
      "          [-4.1419e-02,  3.7119e-01,  7.5212e-01,  1.2278e+00,  1.1979e+00,\n",
      "            1.4453e-01, -1.2016e+00,  4.8252e-01,  8.7354e-01,  2.3690e+00,\n",
      "            7.4478e-01, -4.0665e-01, -5.5529e-01, -1.2837e+00, -1.1737e-01,\n",
      "            2.9569e-01,  3.3105e-01,  1.2764e+00, -5.8059e-01,  1.0609e+00,\n",
      "            3.9278e-01,  4.9880e-01,  4.6294e-01, -2.3833e+00,  3.1525e-01,\n",
      "           -1.5685e-01, -7.6432e-01, -4.4152e-01],\n",
      "          [ 2.0627e-02, -1.9590e+00, -7.2140e-01, -3.3083e-01, -4.0284e-01,\n",
      "           -2.4824e-01,  1.0433e+00, -5.6200e-01, -4.9479e-01, -2.3216e+00,\n",
      "           -4.4468e-01, -6.8023e-01, -3.2332e-01, -3.9063e-01, -1.8111e+00,\n",
      "            9.6505e-01,  1.7807e+00, -6.0784e-01, -1.1021e-01,  4.2873e-01,\n",
      "            4.8785e-01,  8.4389e-01,  1.7826e+00,  1.3602e-01,  1.1085e+00,\n",
      "            1.9199e-01, -6.4369e-01, -6.4737e-01],\n",
      "          [-1.2290e+00, -1.7189e-01, -5.2938e-01, -7.2290e-01, -1.8697e-01,\n",
      "            3.7088e-02,  2.0315e+00,  3.5495e-01,  7.5546e-01, -1.7559e+00,\n",
      "            2.5993e+00,  1.9049e+00,  8.2307e-02,  6.6995e-01,  5.8259e-01,\n",
      "            5.0395e-01,  3.9244e-01,  3.6683e-01,  1.1912e+00,  1.0569e-01,\n",
      "            3.5322e-01, -3.4453e-01,  8.3183e-02,  2.4621e-01,  1.5962e+00,\n",
      "            3.3798e-01,  3.6309e-01, -7.2716e-01],\n",
      "          [ 7.1901e-01, -5.4295e-01, -8.1499e-01, -1.0590e+00, -1.3453e-01,\n",
      "            1.8583e-02, -1.2323e+00, -2.2377e+00, -7.8978e-01,  2.5734e-01,\n",
      "           -1.0016e+00, -9.0898e-02, -1.0389e+00, -3.0619e-01, -1.4734e-01,\n",
      "            1.4687e+00, -1.4108e+00, -5.9348e-01,  2.2131e+00,  2.0646e+00,\n",
      "           -9.6216e-01, -9.1206e-02,  1.6086e-01, -5.3614e-01, -4.1948e-01,\n",
      "           -9.6248e-01,  1.3592e+00,  1.2780e+00],\n",
      "          [-2.0872e-01,  6.4658e-01, -1.3695e+00, -1.1436e-01,  2.1243e-01,\n",
      "            6.7209e-01, -1.5169e+00,  3.9761e-01, -9.7658e-01,  5.6997e-01,\n",
      "           -2.2802e+00,  8.2510e-01,  2.3548e+00, -4.3038e-01,  2.6224e-01,\n",
      "            1.1429e+00, -9.4822e-01, -1.2654e-01,  1.7282e-01,  6.8317e-01,\n",
      "            1.7332e+00,  3.0454e-01,  4.5857e-01, -1.1707e+00, -6.6186e-01,\n",
      "            1.2916e+00,  5.6206e-01,  1.1423e+00],\n",
      "          [-7.0692e-02, -1.1275e+00,  9.6149e-01,  1.1011e+00, -2.3849e-01,\n",
      "           -5.6275e-01, -1.7619e+00,  1.9533e+00, -5.1980e-02, -1.2220e-02,\n",
      "           -4.9140e-01, -1.5834e+00,  1.0059e+00, -3.6942e-01,  1.5225e-01,\n",
      "           -2.0050e+00, -2.5472e-01, -8.1047e-01, -8.0477e-01,  1.5370e+00,\n",
      "           -4.4460e-01,  1.3518e+00, -8.9121e-01,  1.0365e+00,  2.4853e-01,\n",
      "           -1.6006e+00, -7.8903e-01, -4.6263e-01],\n",
      "          [-1.1244e+00, -3.7576e-01,  5.8616e-01,  1.1314e+00, -5.3142e-01,\n",
      "            1.0769e+00, -1.2345e+00, -1.3555e+00, -4.3969e-01, -6.6757e-01,\n",
      "           -1.7643e-01, -1.2224e+00,  6.0132e-01, -1.8325e+00,  6.7223e-01,\n",
      "           -7.5337e-01, -1.1789e+00, -1.2680e+00, -1.1207e+00, -1.6855e+00,\n",
      "           -1.1976e+00,  1.2075e+00, -1.6776e-01,  1.2256e+00,  8.9383e-02,\n",
      "            2.6085e-01, -1.4263e-01,  3.1530e-01],\n",
      "          [-5.8610e-01, -6.3765e-01, -1.7003e+00,  6.0278e-01,  7.3665e-01,\n",
      "            5.1111e-01,  7.5742e-02,  9.7084e-01,  9.1628e-01,  6.6205e-01,\n",
      "            3.5622e-01, -5.8174e-01,  1.1491e-01, -1.1006e+00,  7.9680e-01,\n",
      "           -1.6498e+00, -9.0117e-02,  1.7436e+00, -4.6997e-01,  8.1673e-01,\n",
      "            2.4659e+00, -5.7560e-01, -5.3731e-01,  2.2534e-01,  6.2019e-01,\n",
      "           -6.8339e-01, -2.3578e-01,  1.7827e+00],\n",
      "          [-2.7555e-01,  5.1459e-01, -5.2178e-01, -5.3865e-02,  1.2801e+00,\n",
      "           -1.4306e-02, -1.3850e+00, -8.1728e-01,  1.2228e-01, -2.8066e-01,\n",
      "           -3.8381e-01, -2.4871e+00,  2.1581e-01, -6.8798e-01, -8.7483e-01,\n",
      "           -4.4999e-01,  2.6567e-01, -4.2881e-01, -1.4223e+00,  4.8649e-02,\n",
      "            2.4789e-01, -5.8378e-01, -2.4969e-01,  8.9693e-01,  1.7346e+00,\n",
      "            1.0373e+00, -1.6142e-01,  1.7826e-01],\n",
      "          [ 6.5202e-01,  2.0802e+00, -3.6739e-01,  8.7609e-01, -1.2699e+00,\n",
      "           -5.4729e-01, -1.3804e+00, -1.0296e+00,  7.8709e-01,  4.7705e-01,\n",
      "            8.6574e-01, -5.7250e-01,  3.3103e-01, -2.6533e-01, -7.7542e-02,\n",
      "           -1.2728e+00,  9.1793e-01, -5.8024e-01, -5.9064e-01, -1.8885e+00,\n",
      "            1.9728e-01, -2.8172e-01,  1.2585e+00, -1.3799e+00, -3.4528e-01,\n",
      "            1.9124e-01,  7.8395e-01, -8.2910e-01],\n",
      "          [-1.5168e+00, -8.2535e-01,  3.8927e-01,  6.1086e-01, -6.0219e-01,\n",
      "           -9.1976e-02,  7.7227e-01, -1.9320e-01,  1.3429e+00, -1.5723e+00,\n",
      "            5.2448e-01,  2.3173e-01,  6.9145e-01,  6.3706e-01, -9.9200e-01,\n",
      "           -5.8383e-01, -7.2334e-01, -2.3714e-01, -7.8968e-01,  1.2026e-01,\n",
      "            1.5177e+00, -1.5438e+00, -2.1805e+00, -4.9360e-01, -4.4411e-01,\n",
      "            3.0225e-01,  1.0629e+00, -6.6345e-01],\n",
      "          [ 1.0734e+00, -1.7568e+00,  1.1927e+00,  6.5026e-01,  1.8518e+00,\n",
      "           -2.3443e+00, -2.6749e-01, -4.9976e-01,  5.4637e-01, -4.3475e-01,\n",
      "            2.4857e+00,  7.3837e-01,  9.3274e-01,  7.6763e-01,  1.0040e-01,\n",
      "           -8.8898e-01, -2.6670e-01, -3.5527e-01,  6.9533e-01, -9.3969e-01,\n",
      "           -1.9365e+00,  7.4997e-01, -1.7718e+00, -2.1727e+00, -5.6331e-01,\n",
      "           -5.2777e-02,  4.7286e-01,  8.6392e-01],\n",
      "          [-1.9329e+00,  2.2782e-01, -3.9566e-01,  6.5776e-01,  5.7743e-01,\n",
      "           -9.7321e-02, -2.3964e-01,  6.8239e-01,  7.6507e-01, -5.0423e-01,\n",
      "           -5.9796e-02,  2.2156e+00, -3.5733e-01, -7.1004e-02, -9.7482e-01,\n",
      "            3.0944e-01, -2.1732e-01, -8.9318e-02, -2.3583e-01, -9.3283e-01,\n",
      "           -8.6556e-01,  8.8595e-01,  3.2878e-01,  1.8481e-01, -6.4464e-01,\n",
      "            7.6807e-01, -5.9601e-01, -3.7910e-01],\n",
      "          [ 1.3479e+00, -4.2982e-01, -4.3986e-01, -6.5180e-01,  6.3700e-01,\n",
      "           -2.2924e+00, -1.6169e+00,  3.1394e-01, -1.2153e+00,  6.6766e-01,\n",
      "            6.4730e-01, -1.5289e-02, -1.1477e+00, -1.5847e-01, -1.1546e+00,\n",
      "            7.1303e-01,  7.6019e-02,  2.3492e-01,  1.4341e+00, -5.4667e-01,\n",
      "            3.7110e-01, -7.0852e-01, -7.1506e-01,  1.3214e-01,  6.9913e-01,\n",
      "           -9.7445e-02, -1.6935e-02, -9.0068e-01],\n",
      "          [-9.0812e-01,  5.0052e-01,  1.1254e+00,  1.1337e+00,  1.5376e+00,\n",
      "            1.2614e+00, -2.2535e+00, -3.8393e-01,  4.7961e-02,  6.5208e-01,\n",
      "            1.7253e-01,  5.1873e-01, -4.3324e-01,  1.7644e+00,  8.7917e-01,\n",
      "            1.6991e-03, -5.1091e-01, -7.9731e-01, -1.2257e+00, -1.2830e+00,\n",
      "           -1.0913e+00, -1.3841e-01,  2.5622e-01,  1.0911e+00,  4.0049e-01,\n",
      "           -1.3375e+00,  1.8594e-01, -1.9883e+00],\n",
      "          [-9.9666e-01,  6.1306e-02,  1.5130e-01, -2.9731e-02,  2.4890e-02,\n",
      "           -2.5897e+00, -7.4473e-01,  4.0193e-02,  8.8228e-01, -7.8579e-01,\n",
      "            6.5172e-01, -1.0719e+00,  4.4071e-01,  8.2639e-01, -2.4842e-01,\n",
      "            2.6176e+00, -8.9702e-01, -8.4586e-01, -7.8293e-01,  1.1011e+00,\n",
      "            4.5706e-01, -3.7300e-01, -1.7419e+00, -1.1538e-01,  9.7799e-01,\n",
      "           -2.1266e-01, -3.3850e+00,  1.9754e+00]]]])]\n"
     ]
    }
   ],
   "source": [
    "import onnxruntime\n",
    "\n",
    "onnx_input = [torch_input]\n",
    "print(f\"Input length: {len(onnx_input)}\")\n",
    "print(f\"Sample input: {onnx_input}\")\n",
    "\n",
    "ort_session = onnxruntime.InferenceSession(\"./model.onnx\", providers=['CPUExecutionProvider'])\n",
    "\n",
    "def to_numpy(tensor):\n",
    "    return tensor.detach().cpu().numpy() if tensor.requires_grad else tensor.cpu().numpy()\n",
    "\n",
    "onnxruntime_input = {k.name: to_numpy(v) for k, v in zip(ort_session.get_inputs(), onnx_input)}\n",
    "\n",
    "# onnxruntime returns a list of outputs\n",
    "onnxruntime_outputs = ort_session.run(None, onnxruntime_input)[0]"
   ]
  },
  {
   "cell_type": "code",
   "execution_count": 137,
   "metadata": {},
   "outputs": [
    {
     "name": "stdout",
     "output_type": "stream",
     "text": [
      "PyTorch and ONNX Runtime output matched!\n",
      "Output length: 1\n",
      "Sample output: [[ -5.839282   -3.6005633  10.286593   -2.2662294  -3.691333  -10.707891\n",
      "   -5.088867    1.1821382   6.063161   -9.791163 ]]\n"
     ]
    }
   ],
   "source": [
    "torch_outputs = cnn(torch_input)\n",
    "\n",
    "assert len(torch_outputs) == len(onnxruntime_outputs)\n",
    "for torch_output, onnxruntime_output in zip(torch_outputs, onnxruntime_outputs):\n",
    "    torch.testing.assert_close(torch_output, torch.tensor(onnxruntime_output))\n",
    "\n",
    "print(\"PyTorch and ONNX Runtime output matched!\")\n",
    "print(f\"Output length: {len(onnxruntime_outputs)}\")\n",
    "print(f\"Sample output: {onnxruntime_outputs}\")"
   ]
  },
  {
   "cell_type": "code",
   "execution_count": null,
   "metadata": {},
   "outputs": [],
   "source": []
  }
 ],
 "metadata": {
  "kernelspec": {
   "display_name": ".venv",
   "language": "python",
   "name": "python3"
  },
  "language_info": {
   "codemirror_mode": {
    "name": "ipython",
    "version": 3
   },
   "file_extension": ".py",
   "mimetype": "text/x-python",
   "name": "python",
   "nbconvert_exporter": "python",
   "pygments_lexer": "ipython3",
   "version": "3.10.7"
  }
 },
 "nbformat": 4,
 "nbformat_minor": 2
}
